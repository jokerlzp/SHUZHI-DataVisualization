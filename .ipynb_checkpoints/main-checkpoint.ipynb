{
 "cells": [
  {
   "cell_type": "code",
   "execution_count": 1,
   "metadata": {},
   "outputs": [],
   "source": [
    "import numpy as np\n",
    "import pandas as pd"
   ]
  },
  {
   "cell_type": "markdown",
   "metadata": {},
   "source": [
    "# 数据读取与预览"
   ]
  },
  {
   "cell_type": "code",
   "execution_count": 2,
   "metadata": {},
   "outputs": [],
   "source": [
    "teacher = pd.read_csv('./education_data/1_teacher.csv')\n",
    "student_info = pd.read_csv('./education_data/2_student_info.csv')\n",
    "kaoqin = pd.read_csv('./education_data/3_kaoqin.csv')\n",
    "kaoqintype = pd.read_csv('./education_data/4_kaoqintype.csv')\n",
    "chengji = pd.read_csv('./education_data/5_chengji.csv')\n",
    "exam_type = pd.read_csv('./education_data/6_exam_type.csv') \n",
    "consumption = pd.read_csv('./education_data/7_consumption.csv') "
   ]
  },
  {
   "cell_type": "code",
   "execution_count": 3,
   "metadata": {},
   "outputs": [
    {
     "data": {
      "text/html": [
       "<div>\n",
       "<style scoped>\n",
       "    .dataframe tbody tr th:only-of-type {\n",
       "        vertical-align: middle;\n",
       "    }\n",
       "\n",
       "    .dataframe tbody tr th {\n",
       "        vertical-align: top;\n",
       "    }\n",
       "\n",
       "    .dataframe thead th {\n",
       "        text-align: right;\n",
       "    }\n",
       "</style>\n",
       "<table border=\"1\" class=\"dataframe\">\n",
       "  <thead>\n",
       "    <tr style=\"text-align: right;\">\n",
       "      <th></th>\n",
       "      <th>term</th>\n",
       "      <th>cla_id</th>\n",
       "      <th>cla_Name</th>\n",
       "      <th>gra_Name</th>\n",
       "      <th>sub_id</th>\n",
       "      <th>sub_Name</th>\n",
       "      <th>bas_id</th>\n",
       "      <th>bas_Name</th>\n",
       "    </tr>\n",
       "  </thead>\n",
       "  <tbody>\n",
       "    <tr>\n",
       "      <th>0</th>\n",
       "      <td>2014-2015-1</td>\n",
       "      <td>708</td>\n",
       "      <td>高二(02)</td>\n",
       "      <td>高二</td>\n",
       "      <td>1</td>\n",
       "      <td>语文</td>\n",
       "      <td>224</td>\n",
       "      <td>徐老师</td>\n",
       "    </tr>\n",
       "    <tr>\n",
       "      <th>1</th>\n",
       "      <td>2014-2015-1</td>\n",
       "      <td>708</td>\n",
       "      <td>高二(02)</td>\n",
       "      <td>高二</td>\n",
       "      <td>2</td>\n",
       "      <td>数学</td>\n",
       "      <td>94</td>\n",
       "      <td>张老师</td>\n",
       "    </tr>\n",
       "    <tr>\n",
       "      <th>2</th>\n",
       "      <td>2014-2015-1</td>\n",
       "      <td>708</td>\n",
       "      <td>高二(02)</td>\n",
       "      <td>高二</td>\n",
       "      <td>3</td>\n",
       "      <td>英语</td>\n",
       "      <td>134</td>\n",
       "      <td>张老师</td>\n",
       "    </tr>\n",
       "    <tr>\n",
       "      <th>3</th>\n",
       "      <td>2014-2015-1</td>\n",
       "      <td>708</td>\n",
       "      <td>高二(02)</td>\n",
       "      <td>高二</td>\n",
       "      <td>4</td>\n",
       "      <td>物理</td>\n",
       "      <td>151</td>\n",
       "      <td>陈老师</td>\n",
       "    </tr>\n",
       "    <tr>\n",
       "      <th>4</th>\n",
       "      <td>2014-2015-1</td>\n",
       "      <td>708</td>\n",
       "      <td>高二(02)</td>\n",
       "      <td>高二</td>\n",
       "      <td>6</td>\n",
       "      <td>生物</td>\n",
       "      <td>253</td>\n",
       "      <td>史老师</td>\n",
       "    </tr>\n",
       "  </tbody>\n",
       "</table>\n",
       "</div>"
      ],
      "text/plain": [
       "          term  cla_id cla_Name gra_Name  sub_id sub_Name  bas_id bas_Name\n",
       "0  2014-2015-1     708   高二(02)       高二       1       语文     224      徐老师\n",
       "1  2014-2015-1     708   高二(02)       高二       2       数学      94      张老师\n",
       "2  2014-2015-1     708   高二(02)       高二       3       英语     134      张老师\n",
       "3  2014-2015-1     708   高二(02)       高二       4       物理     151      陈老师\n",
       "4  2014-2015-1     708   高二(02)       高二       6       生物     253      史老师"
      ]
     },
     "execution_count": 3,
     "metadata": {},
     "output_type": "execute_result"
    }
   ],
   "source": [
    "teacher.head()"
   ]
  },
  {
   "cell_type": "code",
   "execution_count": 5,
   "metadata": {},
   "outputs": [
    {
     "data": {
      "text/plain": [
       "(3088, 8)"
      ]
     },
     "execution_count": 5,
     "metadata": {},
     "output_type": "execute_result"
    }
   ],
   "source": [
    "teacher.shape"
   ]
  },
  {
   "cell_type": "code",
   "execution_count": 9,
   "metadata": {},
   "outputs": [
    {
     "data": {
      "text/html": [
       "<div>\n",
       "<style scoped>\n",
       "    .dataframe tbody tr th:only-of-type {\n",
       "        vertical-align: middle;\n",
       "    }\n",
       "\n",
       "    .dataframe tbody tr th {\n",
       "        vertical-align: top;\n",
       "    }\n",
       "\n",
       "    .dataframe thead th {\n",
       "        text-align: right;\n",
       "    }\n",
       "</style>\n",
       "<table border=\"1\" class=\"dataframe\">\n",
       "  <thead>\n",
       "    <tr style=\"text-align: right;\">\n",
       "      <th></th>\n",
       "      <th>bf_StudentID</th>\n",
       "      <th>bf_Name</th>\n",
       "      <th>bf_sex</th>\n",
       "      <th>bf_nation</th>\n",
       "      <th>bf_BornDate</th>\n",
       "      <th>cla_Name</th>\n",
       "      <th>bf_NativePlace</th>\n",
       "      <th>Bf_ResidenceType</th>\n",
       "      <th>bf_policy</th>\n",
       "      <th>cla_id</th>\n",
       "      <th>cla_term</th>\n",
       "      <th>bf_zhusu</th>\n",
       "      <th>bf_leaveSchool</th>\n",
       "      <th>bf_qinshihao</th>\n",
       "    </tr>\n",
       "  </thead>\n",
       "  <tbody>\n",
       "    <tr>\n",
       "      <th>0</th>\n",
       "      <td>14454</td>\n",
       "      <td>陈某某</td>\n",
       "      <td>女</td>\n",
       "      <td>汉族</td>\n",
       "      <td>2001.0</td>\n",
       "      <td>白-高二(01)</td>\n",
       "      <td>宁波</td>\n",
       "      <td>城镇</td>\n",
       "      <td>共青团员</td>\n",
       "      <td>901</td>\n",
       "      <td>2018-2019-1</td>\n",
       "      <td>NaN</td>\n",
       "      <td>NaN</td>\n",
       "      <td>NaN</td>\n",
       "    </tr>\n",
       "    <tr>\n",
       "      <th>1</th>\n",
       "      <td>14479</td>\n",
       "      <td>曹某某</td>\n",
       "      <td>男</td>\n",
       "      <td>汉族</td>\n",
       "      <td>NaN</td>\n",
       "      <td>白-高二(01)</td>\n",
       "      <td>NaN</td>\n",
       "      <td>城镇</td>\n",
       "      <td>共青团员</td>\n",
       "      <td>901</td>\n",
       "      <td>2018-2019-1</td>\n",
       "      <td>1.0</td>\n",
       "      <td>NaN</td>\n",
       "      <td>315.0</td>\n",
       "    </tr>\n",
       "    <tr>\n",
       "      <th>2</th>\n",
       "      <td>14486</td>\n",
       "      <td>金某某</td>\n",
       "      <td>男</td>\n",
       "      <td>汉族</td>\n",
       "      <td>NaN</td>\n",
       "      <td>白-高二(01)</td>\n",
       "      <td>NaN</td>\n",
       "      <td>城镇</td>\n",
       "      <td>共青团员</td>\n",
       "      <td>901</td>\n",
       "      <td>2018-2019-1</td>\n",
       "      <td>1.0</td>\n",
       "      <td>NaN</td>\n",
       "      <td>321.0</td>\n",
       "    </tr>\n",
       "    <tr>\n",
       "      <th>3</th>\n",
       "      <td>14549</td>\n",
       "      <td>张某某</td>\n",
       "      <td>女</td>\n",
       "      <td>汉族</td>\n",
       "      <td>2002.0</td>\n",
       "      <td>白-高二(07)</td>\n",
       "      <td>浙江平湖</td>\n",
       "      <td>城镇</td>\n",
       "      <td>共青团员</td>\n",
       "      <td>907</td>\n",
       "      <td>2018-2019-1</td>\n",
       "      <td>NaN</td>\n",
       "      <td>NaN</td>\n",
       "      <td>NaN</td>\n",
       "    </tr>\n",
       "    <tr>\n",
       "      <th>4</th>\n",
       "      <td>14550</td>\n",
       "      <td>张某某</td>\n",
       "      <td>女</td>\n",
       "      <td>汉族</td>\n",
       "      <td>2001.0</td>\n",
       "      <td>白-高二(04)</td>\n",
       "      <td>浙江宁波</td>\n",
       "      <td>城镇</td>\n",
       "      <td>共青团员</td>\n",
       "      <td>904</td>\n",
       "      <td>2018-2019-1</td>\n",
       "      <td>NaN</td>\n",
       "      <td>NaN</td>\n",
       "      <td>NaN</td>\n",
       "    </tr>\n",
       "  </tbody>\n",
       "</table>\n",
       "</div>"
      ],
      "text/plain": [
       "   bf_StudentID bf_Name bf_sex bf_nation  bf_BornDate  cla_Name  \\\n",
       "0         14454     陈某某      女        汉族       2001.0  白-高二(01)   \n",
       "1         14479     曹某某      男        汉族          NaN  白-高二(01)   \n",
       "2         14486     金某某      男        汉族          NaN  白-高二(01)   \n",
       "3         14549     张某某      女        汉族       2002.0  白-高二(07)   \n",
       "4         14550     张某某      女        汉族       2001.0  白-高二(04)   \n",
       "\n",
       "  bf_NativePlace Bf_ResidenceType bf_policy  cla_id     cla_term  bf_zhusu  \\\n",
       "0             宁波               城镇      共青团员     901  2018-2019-1       NaN   \n",
       "1            NaN               城镇      共青团员     901  2018-2019-1       1.0   \n",
       "2            NaN               城镇      共青团员     901  2018-2019-1       1.0   \n",
       "3           浙江平湖               城镇      共青团员     907  2018-2019-1       NaN   \n",
       "4           浙江宁波               城镇      共青团员     904  2018-2019-1       NaN   \n",
       "\n",
       "  bf_leaveSchool  bf_qinshihao  \n",
       "0            NaN           NaN  \n",
       "1            NaN         315.0  \n",
       "2            NaN         321.0  \n",
       "3            NaN           NaN  \n",
       "4            NaN           NaN  "
      ]
     },
     "execution_count": 9,
     "metadata": {},
     "output_type": "execute_result"
    }
   ],
   "source": [
    "student_info.head()"
   ]
  },
  {
   "cell_type": "code",
   "execution_count": 10,
   "metadata": {},
   "outputs": [
    {
     "data": {
      "text/plain": [
       "(1765, 14)"
      ]
     },
     "execution_count": 10,
     "metadata": {},
     "output_type": "execute_result"
    }
   ],
   "source": [
    "student_info.shape"
   ]
  },
  {
   "cell_type": "code",
   "execution_count": 11,
   "metadata": {},
   "outputs": [
    {
     "data": {
      "text/html": [
       "<div>\n",
       "<style scoped>\n",
       "    .dataframe tbody tr th:only-of-type {\n",
       "        vertical-align: middle;\n",
       "    }\n",
       "\n",
       "    .dataframe tbody tr th {\n",
       "        vertical-align: top;\n",
       "    }\n",
       "\n",
       "    .dataframe thead th {\n",
       "        text-align: right;\n",
       "    }\n",
       "</style>\n",
       "<table border=\"1\" class=\"dataframe\">\n",
       "  <thead>\n",
       "    <tr style=\"text-align: right;\">\n",
       "      <th></th>\n",
       "      <th>kaoqing_id</th>\n",
       "      <th>qj_term</th>\n",
       "      <th>DataDateTime</th>\n",
       "      <th>ControllerID</th>\n",
       "      <th>controler_name</th>\n",
       "      <th>control_task_order_id</th>\n",
       "      <th>bf_studentID</th>\n",
       "      <th>bf_Name</th>\n",
       "      <th>cla_Name</th>\n",
       "      <th>bf_classid</th>\n",
       "    </tr>\n",
       "  </thead>\n",
       "  <tbody>\n",
       "    <tr>\n",
       "      <th>0</th>\n",
       "      <td>134324</td>\n",
       "      <td>2017-2018-1</td>\n",
       "      <td>2018/1/27 12:21:32</td>\n",
       "      <td>99003</td>\n",
       "      <td>早退[移动考勤机]</td>\n",
       "      <td>9900300</td>\n",
       "      <td>13893</td>\n",
       "      <td>陈某某</td>\n",
       "      <td>高三(11)</td>\n",
       "      <td>872</td>\n",
       "    </tr>\n",
       "    <tr>\n",
       "      <th>1</th>\n",
       "      <td>134346</td>\n",
       "      <td>2017-2018-1</td>\n",
       "      <td>2018/1/27 12:41:44</td>\n",
       "      <td>99003</td>\n",
       "      <td>早退[移动考勤机]</td>\n",
       "      <td>9900300</td>\n",
       "      <td>13667</td>\n",
       "      <td>宋某某</td>\n",
       "      <td>高三(11)</td>\n",
       "      <td>872</td>\n",
       "    </tr>\n",
       "    <tr>\n",
       "      <th>2</th>\n",
       "      <td>134367</td>\n",
       "      <td>2017-2018-1</td>\n",
       "      <td>2018/1/27 14:13:37</td>\n",
       "      <td>99003</td>\n",
       "      <td>早退[移动考勤机]</td>\n",
       "      <td>9900300</td>\n",
       "      <td>13925</td>\n",
       "      <td>李某某</td>\n",
       "      <td>高三(09)</td>\n",
       "      <td>879</td>\n",
       "    </tr>\n",
       "    <tr>\n",
       "      <th>3</th>\n",
       "      <td>134263</td>\n",
       "      <td>2017-2018-1</td>\n",
       "      <td>2018/1/27 11:18:03</td>\n",
       "      <td>99003</td>\n",
       "      <td>早退[移动考勤机]</td>\n",
       "      <td>9900300</td>\n",
       "      <td>13774</td>\n",
       "      <td>张某某</td>\n",
       "      <td>高三(09)</td>\n",
       "      <td>879</td>\n",
       "    </tr>\n",
       "    <tr>\n",
       "      <th>4</th>\n",
       "      <td>134480</td>\n",
       "      <td>2017-2018-1</td>\n",
       "      <td>2018/1/27 14:42:03</td>\n",
       "      <td>99002</td>\n",
       "      <td>校服[移动考勤机]</td>\n",
       "      <td>9900200</td>\n",
       "      <td>13774</td>\n",
       "      <td>张某某</td>\n",
       "      <td>高三(09)</td>\n",
       "      <td>879</td>\n",
       "    </tr>\n",
       "  </tbody>\n",
       "</table>\n",
       "</div>"
      ],
      "text/plain": [
       "   kaoqing_id      qj_term        DataDateTime  ControllerID controler_name  \\\n",
       "0      134324  2017-2018-1  2018/1/27 12:21:32         99003      早退[移动考勤机]   \n",
       "1      134346  2017-2018-1  2018/1/27 12:41:44         99003      早退[移动考勤机]   \n",
       "2      134367  2017-2018-1  2018/1/27 14:13:37         99003      早退[移动考勤机]   \n",
       "3      134263  2017-2018-1  2018/1/27 11:18:03         99003      早退[移动考勤机]   \n",
       "4      134480  2017-2018-1  2018/1/27 14:42:03         99002      校服[移动考勤机]   \n",
       "\n",
       "   control_task_order_id  bf_studentID bf_Name cla_Name  bf_classid  \n",
       "0                9900300         13893     陈某某   高三(11)         872  \n",
       "1                9900300         13667     宋某某   高三(11)         872  \n",
       "2                9900300         13925     李某某   高三(09)         879  \n",
       "3                9900300         13774     张某某   高三(09)         879  \n",
       "4                9900200         13774     张某某   高三(09)         879  "
      ]
     },
     "execution_count": 11,
     "metadata": {},
     "output_type": "execute_result"
    }
   ],
   "source": [
    "kaoqin.head()"
   ]
  },
  {
   "cell_type": "code",
   "execution_count": 12,
   "metadata": {},
   "outputs": [
    {
     "data": {
      "text/plain": [
       "(23630, 10)"
      ]
     },
     "execution_count": 12,
     "metadata": {},
     "output_type": "execute_result"
    }
   ],
   "source": [
    "kaoqin.shape"
   ]
  },
  {
   "cell_type": "code",
   "execution_count": 13,
   "metadata": {},
   "outputs": [
    {
     "data": {
      "text/html": [
       "<div>\n",
       "<style scoped>\n",
       "    .dataframe tbody tr th:only-of-type {\n",
       "        vertical-align: middle;\n",
       "    }\n",
       "\n",
       "    .dataframe tbody tr th {\n",
       "        vertical-align: top;\n",
       "    }\n",
       "\n",
       "    .dataframe thead th {\n",
       "        text-align: right;\n",
       "    }\n",
       "</style>\n",
       "<table border=\"1\" class=\"dataframe\">\n",
       "  <thead>\n",
       "    <tr style=\"text-align: right;\">\n",
       "      <th></th>\n",
       "      <th>controler_id</th>\n",
       "      <th>controler_name</th>\n",
       "      <th>control_task_order_id</th>\n",
       "      <th>control_task_name</th>\n",
       "    </tr>\n",
       "  </thead>\n",
       "  <tbody>\n",
       "    <tr>\n",
       "      <th>0</th>\n",
       "      <td>1001</td>\n",
       "      <td>迟到_晚到</td>\n",
       "      <td>100000</td>\n",
       "      <td>默认信息</td>\n",
       "    </tr>\n",
       "    <tr>\n",
       "      <th>1</th>\n",
       "      <td>1001</td>\n",
       "      <td>迟到_晚到</td>\n",
       "      <td>100100</td>\n",
       "      <td>早上迟到</td>\n",
       "    </tr>\n",
       "    <tr>\n",
       "      <th>2</th>\n",
       "      <td>1001</td>\n",
       "      <td>迟到_晚到</td>\n",
       "      <td>100200</td>\n",
       "      <td>晚到学校</td>\n",
       "    </tr>\n",
       "    <tr>\n",
       "      <th>3</th>\n",
       "      <td>1001</td>\n",
       "      <td>迟到_晚到</td>\n",
       "      <td>100300</td>\n",
       "      <td>晚自修迟到</td>\n",
       "    </tr>\n",
       "    <tr>\n",
       "      <th>4</th>\n",
       "      <td>1002</td>\n",
       "      <td>校徽_早退</td>\n",
       "      <td>200000</td>\n",
       "      <td>默认信息</td>\n",
       "    </tr>\n",
       "  </tbody>\n",
       "</table>\n",
       "</div>"
      ],
      "text/plain": [
       "   controler_id controler_name  control_task_order_id control_task_name\n",
       "0          1001          迟到_晚到                 100000              默认信息\n",
       "1          1001          迟到_晚到                 100100              早上迟到\n",
       "2          1001          迟到_晚到                 100200              晚到学校\n",
       "3          1001          迟到_晚到                 100300             晚自修迟到\n",
       "4          1002          校徽_早退                 200000              默认信息"
      ]
     },
     "execution_count": 13,
     "metadata": {},
     "output_type": "execute_result"
    }
   ],
   "source": [
    "kaoqintype.head()"
   ]
  },
  {
   "cell_type": "code",
   "execution_count": 14,
   "metadata": {},
   "outputs": [
    {
     "data": {
      "text/plain": [
       "(15, 4)"
      ]
     },
     "execution_count": 14,
     "metadata": {},
     "output_type": "execute_result"
    }
   ],
   "source": [
    "kaoqintype.shape"
   ]
  },
  {
   "cell_type": "code",
   "execution_count": 15,
   "metadata": {},
   "outputs": [
    {
     "data": {
      "text/html": [
       "<div>\n",
       "<style scoped>\n",
       "    .dataframe tbody tr th:only-of-type {\n",
       "        vertical-align: middle;\n",
       "    }\n",
       "\n",
       "    .dataframe tbody tr th {\n",
       "        vertical-align: top;\n",
       "    }\n",
       "\n",
       "    .dataframe thead th {\n",
       "        text-align: right;\n",
       "    }\n",
       "</style>\n",
       "<table border=\"1\" class=\"dataframe\">\n",
       "  <thead>\n",
       "    <tr style=\"text-align: right;\">\n",
       "      <th></th>\n",
       "      <th>mes_TestID</th>\n",
       "      <th>exam_number</th>\n",
       "      <th>exam_numname</th>\n",
       "      <th>mes_sub_id</th>\n",
       "      <th>mes_sub_name</th>\n",
       "      <th>exam_term</th>\n",
       "      <th>exam_type</th>\n",
       "      <th>exam_sdate</th>\n",
       "      <th>mes_StudentID</th>\n",
       "      <th>mes_Score</th>\n",
       "      <th>mes_Z_Score</th>\n",
       "      <th>mes_T_Score</th>\n",
       "      <th>mes_dengdi</th>\n",
       "    </tr>\n",
       "  </thead>\n",
       "  <tbody>\n",
       "    <tr>\n",
       "      <th>0</th>\n",
       "      <td>136424</td>\n",
       "      <td>282</td>\n",
       "      <td>2017年9月宁波市“十校联考”</td>\n",
       "      <td>17.0</td>\n",
       "      <td>政治</td>\n",
       "      <td>2017-2018-1</td>\n",
       "      <td>7</td>\n",
       "      <td>2017/9/20 00:00:00</td>\n",
       "      <td>13539</td>\n",
       "      <td>-2.0</td>\n",
       "      <td>NaN</td>\n",
       "      <td>NaN</td>\n",
       "      <td>NaN</td>\n",
       "    </tr>\n",
       "    <tr>\n",
       "      <th>1</th>\n",
       "      <td>136424</td>\n",
       "      <td>282</td>\n",
       "      <td>2017年9月宁波市“十校联考”</td>\n",
       "      <td>17.0</td>\n",
       "      <td>政治</td>\n",
       "      <td>2017-2018-1</td>\n",
       "      <td>7</td>\n",
       "      <td>2017/9/20 00:00:00</td>\n",
       "      <td>13548</td>\n",
       "      <td>90.0</td>\n",
       "      <td>1.074511</td>\n",
       "      <td>88.59608</td>\n",
       "      <td>0.137615</td>\n",
       "    </tr>\n",
       "    <tr>\n",
       "      <th>2</th>\n",
       "      <td>136424</td>\n",
       "      <td>282</td>\n",
       "      <td>2017年9月宁波市“十校联考”</td>\n",
       "      <td>17.0</td>\n",
       "      <td>政治</td>\n",
       "      <td>2017-2018-1</td>\n",
       "      <td>7</td>\n",
       "      <td>2017/9/20 00:00:00</td>\n",
       "      <td>13551</td>\n",
       "      <td>91.0</td>\n",
       "      <td>1.194145</td>\n",
       "      <td>89.55315</td>\n",
       "      <td>0.091743</td>\n",
       "    </tr>\n",
       "    <tr>\n",
       "      <th>3</th>\n",
       "      <td>136424</td>\n",
       "      <td>282</td>\n",
       "      <td>2017年9月宁波市“十校联考”</td>\n",
       "      <td>17.0</td>\n",
       "      <td>政治</td>\n",
       "      <td>2017-2018-1</td>\n",
       "      <td>7</td>\n",
       "      <td>2017/9/20 00:00:00</td>\n",
       "      <td>13555</td>\n",
       "      <td>-2.0</td>\n",
       "      <td>NaN</td>\n",
       "      <td>NaN</td>\n",
       "      <td>NaN</td>\n",
       "    </tr>\n",
       "    <tr>\n",
       "      <th>4</th>\n",
       "      <td>136424</td>\n",
       "      <td>282</td>\n",
       "      <td>2017年9月宁波市“十校联考”</td>\n",
       "      <td>17.0</td>\n",
       "      <td>政治</td>\n",
       "      <td>2017-2018-1</td>\n",
       "      <td>7</td>\n",
       "      <td>2017/9/20 00:00:00</td>\n",
       "      <td>13559</td>\n",
       "      <td>-2.0</td>\n",
       "      <td>NaN</td>\n",
       "      <td>NaN</td>\n",
       "      <td>NaN</td>\n",
       "    </tr>\n",
       "  </tbody>\n",
       "</table>\n",
       "</div>"
      ],
      "text/plain": [
       "   mes_TestID  exam_number      exam_numname  mes_sub_id mes_sub_name  \\\n",
       "0      136424          282  2017年9月宁波市“十校联考”        17.0           政治   \n",
       "1      136424          282  2017年9月宁波市“十校联考”        17.0           政治   \n",
       "2      136424          282  2017年9月宁波市“十校联考”        17.0           政治   \n",
       "3      136424          282  2017年9月宁波市“十校联考”        17.0           政治   \n",
       "4      136424          282  2017年9月宁波市“十校联考”        17.0           政治   \n",
       "\n",
       "     exam_term  exam_type          exam_sdate  mes_StudentID  mes_Score  \\\n",
       "0  2017-2018-1          7  2017/9/20 00:00:00          13539       -2.0   \n",
       "1  2017-2018-1          7  2017/9/20 00:00:00          13548       90.0   \n",
       "2  2017-2018-1          7  2017/9/20 00:00:00          13551       91.0   \n",
       "3  2017-2018-1          7  2017/9/20 00:00:00          13555       -2.0   \n",
       "4  2017-2018-1          7  2017/9/20 00:00:00          13559       -2.0   \n",
       "\n",
       "   mes_Z_Score  mes_T_Score  mes_dengdi  \n",
       "0          NaN          NaN         NaN  \n",
       "1     1.074511     88.59608    0.137615  \n",
       "2     1.194145     89.55315    0.091743  \n",
       "3          NaN          NaN         NaN  \n",
       "4          NaN          NaN         NaN  "
      ]
     },
     "execution_count": 15,
     "metadata": {},
     "output_type": "execute_result"
    }
   ],
   "source": [
    "chengji.head()"
   ]
  },
  {
   "cell_type": "code",
   "execution_count": 16,
   "metadata": {},
   "outputs": [
    {
     "data": {
      "text/plain": [
       "(471686, 13)"
      ]
     },
     "execution_count": 16,
     "metadata": {},
     "output_type": "execute_result"
    }
   ],
   "source": [
    "chengji.shape"
   ]
  },
  {
   "cell_type": "code",
   "execution_count": 17,
   "metadata": {},
   "outputs": [
    {
     "data": {
      "text/html": [
       "<div>\n",
       "<style scoped>\n",
       "    .dataframe tbody tr th:only-of-type {\n",
       "        vertical-align: middle;\n",
       "    }\n",
       "\n",
       "    .dataframe tbody tr th {\n",
       "        vertical-align: top;\n",
       "    }\n",
       "\n",
       "    .dataframe thead th {\n",
       "        text-align: right;\n",
       "    }\n",
       "</style>\n",
       "<table border=\"1\" class=\"dataframe\">\n",
       "  <thead>\n",
       "    <tr style=\"text-align: right;\">\n",
       "      <th></th>\n",
       "      <th>EXAM_KIND_ID</th>\n",
       "      <th>EXAM_KIND_NAME</th>\n",
       "    </tr>\n",
       "  </thead>\n",
       "  <tbody>\n",
       "    <tr>\n",
       "      <th>0</th>\n",
       "      <td>2</td>\n",
       "      <td>期中</td>\n",
       "    </tr>\n",
       "    <tr>\n",
       "      <th>1</th>\n",
       "      <td>3</td>\n",
       "      <td>期末</td>\n",
       "    </tr>\n",
       "    <tr>\n",
       "      <th>2</th>\n",
       "      <td>4</td>\n",
       "      <td>平时(总评用)</td>\n",
       "    </tr>\n",
       "    <tr>\n",
       "      <th>3</th>\n",
       "      <td>5</td>\n",
       "      <td>总评</td>\n",
       "    </tr>\n",
       "    <tr>\n",
       "      <th>4</th>\n",
       "      <td>6</td>\n",
       "      <td>五校联考</td>\n",
       "    </tr>\n",
       "  </tbody>\n",
       "</table>\n",
       "</div>"
      ],
      "text/plain": [
       "   EXAM_KIND_ID EXAM_KIND_NAME\n",
       "0             2             期中\n",
       "1             3             期末\n",
       "2             4        平时(总评用)\n",
       "3             5             总评\n",
       "4             6           五校联考"
      ]
     },
     "execution_count": 17,
     "metadata": {},
     "output_type": "execute_result"
    }
   ],
   "source": [
    "exam_type.head()"
   ]
  },
  {
   "cell_type": "code",
   "execution_count": 18,
   "metadata": {},
   "outputs": [
    {
     "data": {
      "text/plain": [
       "(21, 2)"
      ]
     },
     "execution_count": 18,
     "metadata": {},
     "output_type": "execute_result"
    }
   ],
   "source": [
    "exam_type.shape"
   ]
  },
  {
   "cell_type": "code",
   "execution_count": 19,
   "metadata": {},
   "outputs": [
    {
     "data": {
      "text/html": [
       "<div>\n",
       "<style scoped>\n",
       "    .dataframe tbody tr th:only-of-type {\n",
       "        vertical-align: middle;\n",
       "    }\n",
       "\n",
       "    .dataframe tbody tr th {\n",
       "        vertical-align: top;\n",
       "    }\n",
       "\n",
       "    .dataframe thead th {\n",
       "        text-align: right;\n",
       "    }\n",
       "</style>\n",
       "<table border=\"1\" class=\"dataframe\">\n",
       "  <thead>\n",
       "    <tr style=\"text-align: right;\">\n",
       "      <th></th>\n",
       "      <th>DealTime</th>\n",
       "      <th>MonDeal</th>\n",
       "      <th>bf_StudentID</th>\n",
       "      <th>AccName</th>\n",
       "      <th>PerSex</th>\n",
       "    </tr>\n",
       "  </thead>\n",
       "  <tbody>\n",
       "    <tr>\n",
       "      <th>0</th>\n",
       "      <td>2018/7/1 06:32:51</td>\n",
       "      <td>-4.5</td>\n",
       "      <td>14877</td>\n",
       "      <td>张某某</td>\n",
       "      <td>女</td>\n",
       "    </tr>\n",
       "    <tr>\n",
       "      <th>1</th>\n",
       "      <td>2018/7/1 11:43:05</td>\n",
       "      <td>-11.0</td>\n",
       "      <td>14917</td>\n",
       "      <td>高某某</td>\n",
       "      <td>男</td>\n",
       "    </tr>\n",
       "    <tr>\n",
       "      <th>2</th>\n",
       "      <td>2018/7/1 14:21:42</td>\n",
       "      <td>-9.2</td>\n",
       "      <td>14921</td>\n",
       "      <td>胡某某</td>\n",
       "      <td>男</td>\n",
       "    </tr>\n",
       "    <tr>\n",
       "      <th>3</th>\n",
       "      <td>2018/7/1 14:33:06</td>\n",
       "      <td>-6.9</td>\n",
       "      <td>14898</td>\n",
       "      <td>牛某某</td>\n",
       "      <td>男</td>\n",
       "    </tr>\n",
       "    <tr>\n",
       "      <th>4</th>\n",
       "      <td>2018/7/1 15:05:45</td>\n",
       "      <td>-7.0</td>\n",
       "      <td>14917</td>\n",
       "      <td>高某某</td>\n",
       "      <td>男</td>\n",
       "    </tr>\n",
       "  </tbody>\n",
       "</table>\n",
       "</div>"
      ],
      "text/plain": [
       "            DealTime  MonDeal  bf_StudentID AccName PerSex\n",
       "0  2018/7/1 06:32:51     -4.5         14877     张某某      女\n",
       "1  2018/7/1 11:43:05    -11.0         14917     高某某      男\n",
       "2  2018/7/1 14:21:42     -9.2         14921     胡某某      男\n",
       "3  2018/7/1 14:33:06     -6.9         14898     牛某某      男\n",
       "4  2018/7/1 15:05:45     -7.0         14917     高某某      男"
      ]
     },
     "execution_count": 19,
     "metadata": {},
     "output_type": "execute_result"
    }
   ],
   "source": [
    "consumption.head()"
   ]
  },
  {
   "cell_type": "code",
   "execution_count": 20,
   "metadata": {},
   "outputs": [
    {
     "data": {
      "text/plain": [
       "(463904, 5)"
      ]
     },
     "execution_count": 20,
     "metadata": {},
     "output_type": "execute_result"
    }
   ],
   "source": [
    "consumption.shape"
   ]
  },
  {
   "cell_type": "code",
   "execution_count": null,
   "metadata": {},
   "outputs": [],
   "source": []
  }
 ],
 "metadata": {
  "kernelspec": {
   "display_name": "Python 3",
   "language": "python",
   "name": "python3"
  },
  "language_info": {
   "codemirror_mode": {
    "name": "ipython",
    "version": 3
   },
   "file_extension": ".py",
   "mimetype": "text/x-python",
   "name": "python",
   "nbconvert_exporter": "python",
   "pygments_lexer": "ipython3",
   "version": "3.6.5"
  }
 },
 "nbformat": 4,
 "nbformat_minor": 2
}
